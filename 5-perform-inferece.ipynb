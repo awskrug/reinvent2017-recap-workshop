{
 "cells": [
  {
   "cell_type": "code",
   "execution_count": null,
   "metadata": {
    "collapsed": true
   },
   "outputs": [],
   "source": [
    "%load_ext autoreload\n",
    "%autoreload 2\n",
    "%matplotlib inline"
   ]
  },
  {
   "cell_type": "markdown",
   "metadata": {},
   "source": [
    "## 이전 작업에서 생성한 endpoint_name을 `endpoint_name` 변수에 입력하시기 바랍니다.\n",
    "\n",
    "- `endpoint_name`\n",
    "- `endpoint_config_name`\n",
    "\n",
    ">`endpoint_config_name`은 삭제시 필요합니다."
   ]
  },
  {
   "cell_type": "code",
   "execution_count": null,
   "metadata": {
    "collapsed": true
   },
   "outputs": [],
   "source": [
    "endpoint_name = \"YOUR_ENDPOINT\""
   ]
  },
  {
   "cell_type": "markdown",
   "metadata": {},
   "source": [
    "## 이미지 다운로드 유틸리티 함수\n",
    "\n",
    "- `downlaod`"
   ]
  },
  {
   "cell_type": "code",
   "execution_count": null,
   "metadata": {
    "collapsed": true
   },
   "outputs": [],
   "source": [
    "import os\n",
    "from six.moves import urllib\n",
    "def download(url, path=\"/tmp\"):\n",
    "    filename = url.split(\"/\")[-1]\n",
    "    filepath = os.path.join(path,filename)\n",
    "    if not os.path.exists(filepath):\n",
    "        urllib.request.urlretrieve(url,filepath)\n",
    "    return filepath"
   ]
  },
  {
   "cell_type": "code",
   "execution_count": null,
   "metadata": {},
   "outputs": [],
   "source": [
    "urls = ['https://cdn.pixabay.com/photo/2015/12/19/10/54/bird-1099639_960_720.jpg',\\\n",
    "       'https://cdn.pixabay.com/photo/2016/02/15/13/26/horse-1201143_960_720.jpg',\\\n",
    "       'https://cdn.pixabay.com/photo/2016/02/19/15/46/dog-1210559_960_720.jpg',\\\n",
    "       'https://cdn.pixabay.com/photo/2015/09/29/10/14/truck-truck-963637_960_720.jpg']\n",
    "file_names = []\n",
    "for url in urls:\n",
    "    file_names.append(download(url))\n",
    "print(file_names)"
   ]
  },
  {
   "cell_type": "markdown",
   "metadata": {},
   "source": [
    "## 이미지 Display 유틸\n",
    "\n",
    "- disp_img"
   ]
  },
  {
   "cell_type": "code",
   "execution_count": null,
   "metadata": {
    "collapsed": true
   },
   "outputs": [],
   "source": [
    "import matplotlib.pyplot as plt\n",
    "import matplotlib.image as mpimg\n",
    "\n",
    "def disp_img(file_name, size=(12, 8), dpi=80):\n",
    "    img = mpimg.imread(file_name)\n",
    "    fig = plt.figure()\n",
    "    fig.set_size_inches(size)\n",
    "    plt.imshow(img)\n",
    "    plt.axis('off')"
   ]
  },
  {
   "cell_type": "code",
   "execution_count": null,
   "metadata": {},
   "outputs": [],
   "source": [
    "print(file_names[1])\n",
    "disp_img(file_names[1])"
   ]
  },
  {
   "cell_type": "markdown",
   "metadata": {},
   "source": [
    "## Endpoint 응답 유틸\n",
    "\n",
    "- get_response\n"
   ]
  },
  {
   "cell_type": "code",
   "execution_count": null,
   "metadata": {
    "collapsed": true
   },
   "outputs": [],
   "source": [
    "import json\n",
    "import numpy as np\n",
    "import boto3\n",
    "runtime = boto3.Session().client(service_name='runtime.sagemaker') \n",
    "def get_response(file_name):\n",
    "    with open(file_name, 'rb') as f:\n",
    "        payload = f.read()\n",
    "        payload = bytearray(payload)\n",
    "    response = runtime.invoke_endpoint(EndpointName=endpoint_name, \n",
    "                                   ContentType='application/x-image', \n",
    "                                   Body=payload)\n",
    "    result = response['Body'].read()\n",
    "    result = json.loads(result)\n",
    "    index = np.argmax(result)\n",
    "    object_categories = ['airplane', 'automobile', 'bird', 'cat', 'deer', 'dog', 'frog', 'horse', 'ship', 'truck']\n",
    "    ret = \"Result: label - \" + object_categories[index] + \", probability - \" + str(result[index])\n",
    "    return ret"
   ]
  },
  {
   "cell_type": "code",
   "execution_count": null,
   "metadata": {},
   "outputs": [],
   "source": [
    "for file in file_names:\n",
    "    print(file.split(\"/\")[-1].split(\"-\")[0])\n",
    "    print(get_response(file))"
   ]
  }
 ],
 "metadata": {
  "kernelspec": {
   "display_name": "conda_mxnet_p36",
   "language": "python",
   "name": "conda_mxnet_p36"
  },
  "language_info": {
   "codemirror_mode": {
    "name": "ipython",
    "version": 3
   },
   "file_extension": ".py",
   "mimetype": "text/x-python",
   "name": "python",
   "nbconvert_exporter": "python",
   "pygments_lexer": "ipython3",
   "version": "3.6.2"
  }
 },
 "nbformat": 4,
 "nbformat_minor": 2
}
