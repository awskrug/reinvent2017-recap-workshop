{
 "cells": [
  {
   "cell_type": "code",
   "execution_count": null,
   "metadata": {},
   "outputs": [],
   "source": [
    "%load_ext autoreload\n",
    "%autoreload 2"
   ]
  },
  {
   "cell_type": "markdown",
   "metadata": {},
   "source": [
    "## 이전 작업에서 생성한 job_name을 `job_name` 변수에 입력하시기 바랍니다.\n",
    "\n",
    "- `job_name`"
   ]
  },
  {
   "cell_type": "code",
   "execution_count": null,
   "metadata": {
    "collapsed": true
   },
   "outputs": [],
   "source": [
    "## From 1st notebook\n",
    "job_name=\"YOUR_JOBNAME\" \n",
    "\n",
    "job_name_prefix = 'sagemaker-imageclassification-cifar10'\n",
    "\n",
    "## Model name variable\n",
    "model_name=\"image-classification-cifar-transfer\""
   ]
  },
  {
   "cell_type": "markdown",
   "metadata": {},
   "source": [
    "## Training한 Model을 배포 하기 위해서는 크게 3단계 작업이 필요합니다.\n",
    "\n",
    "1. Model 생성\n",
    "    - docker 이미지\n",
    "    - model 데이터\n",
    "1. Endpoint 설정 파일 생성\n",
    "1. Endpoint 생성\n",
    "\n",
    "> [AWS Sagemaker 문서](https://docs.aws.amazon.com/ko_kr/sagemaker/latest/dg/ex1-deploy-model.html)"
   ]
  },
  {
   "cell_type": "code",
   "execution_count": null,
   "metadata": {
    "collapsed": true
   },
   "outputs": [],
   "source": [
    "import boto3\n",
    "sage = boto3.Session().client(service_name='sagemaker') \n",
    "from sagemaker import get_execution_role\n",
    "role = get_execution_role()"
   ]
  },
  {
   "cell_type": "markdown",
   "metadata": {},
   "source": [
    "## Model name이 있는지 확인"
   ]
  },
  {
   "cell_type": "code",
   "execution_count": null,
   "metadata": {},
   "outputs": [],
   "source": [
    "## Check model_name\n",
    "if model_name in [x['ModelName'] for x in sage.list_models()['Models']]:\n",
    "    print(\"{} already exists!\".format(model_name))\n",
    "    print(\"Deleting {}\".format(model_name))\n",
    "    sage.delete_model(ModelName = model_name)"
   ]
  },
  {
   "cell_type": "markdown",
   "metadata": {},
   "source": [
    "## Model 생성에 필요한 container 및 model data 준비"
   ]
  },
  {
   "cell_type": "code",
   "execution_count": null,
   "metadata": {},
   "outputs": [],
   "source": [
    "info = sage.describe_training_job(TrainingJobName=job_name)\n",
    "model_data = info['ModelArtifacts']['S3ModelArtifacts']\n",
    "print(model_data)\n",
    "containers = {'us-west-2': '433757028032.dkr.ecr.us-west-2.amazonaws.com/image-classification:latest',\n",
    "              'us-east-1': '811284229777.dkr.ecr.us-east-1.amazonaws.com/image-classification:latest',\n",
    "              'us-east-2': '825641698319.dkr.ecr.us-east-2.amazonaws.com/image-classification:latest',\n",
    "              'eu-west-1': '685385470294.dkr.ecr.eu-west-1.amazonaws.com/image-classification:latest'}\n",
    "hosting_image = containers[boto3.Session().region_name]\n",
    "primary_container = {\n",
    "    'Image': hosting_image,\n",
    "    'ModelDataUrl': model_data,\n",
    "}"
   ]
  },
  {
   "cell_type": "markdown",
   "metadata": {},
   "source": [
    "## Model 생성"
   ]
  },
  {
   "cell_type": "code",
   "execution_count": null,
   "metadata": {},
   "outputs": [],
   "source": [
    "create_model_response = sage.create_model(\n",
    "    ModelName = model_name,\n",
    "    ExecutionRoleArn = role,\n",
    "    PrimaryContainer = primary_container)\n",
    "print(create_model_response['ModelArn'])"
   ]
  },
  {
   "cell_type": "markdown",
   "metadata": {},
   "source": [
    "## Endpoint 설정 파일 생성\n",
    "\n",
    "\n",
    "A/B 테스트 목적으로 동시에 여러 모델을 호스팅 할 때 필요한 REST endpoints를 구성하는 것을 지원합니다. 이를 지원하기 위해 고객이 endpoint 설정 파일을 생성하고 트래픽을 어떻게 분할, 분배, shadow, 샘플링을 할지를 설정 합니다.\n",
    "\n",
    "또한 endpoint 설정에서 모델 배포에 필요한 인스턴스 유형을 설정하고 시작시 오토스케일링 구성을 설정합니다."
   ]
  },
  {
   "cell_type": "code",
   "execution_count": null,
   "metadata": {},
   "outputs": [],
   "source": [
    "from time import gmtime, strftime\n",
    "\n",
    "timestamp = strftime('-%Y-%m-%d-%H-%M-%S', gmtime())\n",
    "endpoint_config_name = job_name_prefix + '-epc-' + timestamp\n",
    "endpoint_config_response = sage.create_endpoint_config(\n",
    "    EndpointConfigName = endpoint_config_name,\n",
    "    ProductionVariants=[{\n",
    "        'InstanceType':'ml.m4.xlarge',\n",
    "        'InitialInstanceCount':1,\n",
    "        'ModelName':model_name,\n",
    "        'VariantName':'AllTraffic'}])\n",
    "\n",
    "print('Endpoint configuration name: {}'.format(endpoint_config_name))\n",
    "print('Endpoint configuration arn:  {}'.format(endpoint_config_response['EndpointConfigArn']))\n",
    "print('You need this variable for cleaning resources\\n\\nendpoint_config_name=\\\"{}\\\"\\n\\n'.format(endpoint_config_name))"
   ]
  },
  {
   "cell_type": "code",
   "execution_count": null,
   "metadata": {},
   "outputs": [],
   "source": [
    "timestamp = strftime('-%Y-%m-%d-%H-%M-%S', gmtime())\n",
    "endpoint_name = job_name_prefix + '-ep' + timestamp\n",
    "print('Endpoint name: {}'.format(endpoint_name))\n",
    "\n",
    "endpoint_params = {\n",
    "    'EndpointName': endpoint_name,\n",
    "    'EndpointConfigName': endpoint_config_name,\n",
    "}"
   ]
  },
  {
   "cell_type": "markdown",
   "metadata": {},
   "source": [
    "## Endpoint 생성"
   ]
  },
  {
   "cell_type": "code",
   "execution_count": null,
   "metadata": {},
   "outputs": [],
   "source": [
    "endpoint_response = sage.create_endpoint(**endpoint_params)\n",
    "print('EndpointArn = {}'.format(endpoint_response['EndpointArn']))"
   ]
  },
  {
   "cell_type": "markdown",
   "metadata": {},
   "source": [
    "## Endpoint 상태 확인\n",
    "\n",
    "> 대략 10~15분 정도 소요 됩니다."
   ]
  },
  {
   "cell_type": "code",
   "execution_count": null,
   "metadata": {},
   "outputs": [],
   "source": [
    "# get the status of the endpoint\n",
    "response = sage.describe_endpoint(EndpointName=endpoint_name)\n",
    "status = response['EndpointStatus']\n",
    "print('EndpointStatus = {}'.format(status))"
   ]
  },
  {
   "cell_type": "markdown",
   "metadata": {},
   "source": [
    "## Endpoint 결과 확인"
   ]
  },
  {
   "cell_type": "code",
   "execution_count": null,
   "metadata": {},
   "outputs": [],
   "source": [
    "%%time\n",
    "try:\n",
    "    # wait until the status has changed\n",
    "    sage.get_waiter('endpoint_in_service').wait(EndpointName=endpoint_name)\n",
    "    # print the status of the endpoint\n",
    "    endpoint_response = sage.describe_endpoint(EndpointName=endpoint_name)\n",
    "    status = endpoint_response['EndpointStatus']\n",
    "    print('Endpoint creation ended with EndpointStatus = {}'.format(status))\n",
    "    print(\"\\nUse endpoint variable next notebook\\n\\nendpoint_name = \\\"{}\\\"\\n\".format(endpoint_name))\n",
    "\n",
    "    if status != 'InService':\n",
    "        raise Exception('Endpoint creation failed.')\n",
    "except:\n",
    "    print('Training failed to start')\n",
    "     # if exception is raised, that means it has failed\n",
    "    message = sagemaker.describe_endpoint(EndpointName=endpoint_name)['FailureReason']\n",
    "    print('Endpoint creation failed with the following error: {}'.format(message))"
   ]
  },
  {
   "cell_type": "code",
   "execution_count": null,
   "metadata": {
    "collapsed": true
   },
   "outputs": [],
   "source": []
  }
 ],
 "metadata": {
  "kernelspec": {
   "display_name": "conda_mxnet_p36",
   "language": "python",
   "name": "conda_mxnet_p36"
  },
  "language_info": {
   "codemirror_mode": {
    "name": "ipython",
    "version": 3
   },
   "file_extension": ".py",
   "mimetype": "text/x-python",
   "name": "python",
   "nbconvert_exporter": "python",
   "pygments_lexer": "ipython3",
   "version": "3.6.2"
  }
 },
 "nbformat": 4,
 "nbformat_minor": 2
}
