{
 "cells": [
  {
   "cell_type": "code",
   "execution_count": null,
   "metadata": {
    "collapsed": true
   },
   "outputs": [],
   "source": [
    "%load_ext autoreload\n",
    "%autoreload 2"
   ]
  },
  {
   "cell_type": "markdown",
   "metadata": {},
   "source": [
    "## 이전 작업에서 생성한 변수를 입력하시기 바랍니다.\n",
    "\n",
    "- `endpoint_name`\n",
    "- `endpoint_config_name`\n",
    "\n",
    "## 혹은 기존에 Sagemaker을 사용하지 않으셨다면 아래 Detele All 섹션을 참고 하시기 바랍니다."
   ]
  },
  {
   "cell_type": "code",
   "execution_count": null,
   "metadata": {
    "collapsed": true
   },
   "outputs": [],
   "source": [
    "endpoint_name = \"YOUR_ENDPOINT\"\n",
    "endpoint_config_name = \"YOUR_ENDPOINT_CONFIG\""
   ]
  },
  {
   "cell_type": "markdown",
   "metadata": {},
   "source": [
    "## Clean up"
   ]
  },
  {
   "cell_type": "code",
   "execution_count": null,
   "metadata": {
    "collapsed": true
   },
   "outputs": [],
   "source": [
    "import boto3\n",
    "sage = boto3.Session().client(service_name='sagemaker') "
   ]
  },
  {
   "cell_type": "code",
   "execution_count": null,
   "metadata": {
    "collapsed": true
   },
   "outputs": [],
   "source": [
    "model_name=\"image-classification-cifar-transfer\"\n",
    "if model_name in [x['ModelName'] for x in sage.list_models()['Models']]:\n",
    "    print(\"Deleting {}\".format(model_name))\n",
    "    sage.delete_model(ModelName = model_name)"
   ]
  },
  {
   "cell_type": "code",
   "execution_count": null,
   "metadata": {
    "collapsed": true
   },
   "outputs": [],
   "source": [
    "if endpoint_name in [x['EndpointName'] for x in sage.list_endpoints()['Endpoints']]:\n",
    "    print(\"Deleting {}\".format(endpoint_name))\n",
    "    sage.delete_endpoint(EndpointName=endpoint_name)"
   ]
  },
  {
   "cell_type": "code",
   "execution_count": null,
   "metadata": {
    "collapsed": true
   },
   "outputs": [],
   "source": [
    "if endpoint_config_name in [x['EndpointConfigName'] for x in sage.list_endpoint_configs()['EndpointConfigs']]:\n",
    "    print(\"Deleting {}\".format(endpoint_config_name))\n",
    "    sage.delete_endpoint_config(EndpointConfigName=endpoint_config_name)"
   ]
  },
  {
   "cell_type": "markdown",
   "metadata": {},
   "source": [
    "### Delete All Models, EndpointConfig, Endpoints 주의!!!!!"
   ]
  },
  {
   "cell_type": "code",
   "execution_count": null,
   "metadata": {
    "collapsed": true
   },
   "outputs": [],
   "source": [
    "for i in [x['ModelName'] for x in sage.list_models()['Models']]:\n",
    "    sage.delete_model(ModelName = i)\n",
    "for i in [x['EndpointConfigName'] for x in sage.list_endpoint_configs()['EndpointConfigs']]:\n",
    "    sage.delete_endpoint_config(EndpointConfigName=i)\n",
    "for i in [x['EndpointName'] for x in sage.list_endpoints()['Endpoints']]:\n",
    "    sage.delete_model(EndpointName = i)"
   ]
  },
  {
   "cell_type": "markdown",
   "metadata": {},
   "source": [
    "## 추가 삭제 필요 - Sagemaker Notebook에서 삭제 권한이 없는 자원\n",
    "\n",
    "- Sagemaker Notebook\n",
    "- S3 Bucket\n",
    "    - 유저 생성 bucket\n",
    "    - Sagemaker 생성 bucket"
   ]
  },
  {
   "cell_type": "code",
   "execution_count": null,
   "metadata": {
    "collapsed": true
   },
   "outputs": [],
   "source": []
  }
 ],
 "metadata": {
  "kernelspec": {
   "display_name": "conda_mxnet_p36",
   "language": "python",
   "name": "conda_mxnet_p36"
  },
  "language_info": {
   "codemirror_mode": {
    "name": "ipython",
    "version": 3
   },
   "file_extension": ".py",
   "mimetype": "text/x-python",
   "name": "python",
   "nbconvert_exporter": "python",
   "pygments_lexer": "ipython3",
   "version": "3.6.2"
  }
 },
 "nbformat": 4,
 "nbformat_minor": 2
}
