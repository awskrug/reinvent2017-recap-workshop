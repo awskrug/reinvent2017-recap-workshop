{
 "cells": [
  {
   "cell_type": "code",
   "execution_count": null,
   "metadata": {
    "collapsed": true
   },
   "outputs": [],
   "source": [
    "%load_ext autoreload\n",
    "%autoreload 2"
   ]
  },
  {
   "cell_type": "markdown",
   "metadata": {},
   "source": [
    "## Dataset 준비\n",
    "\n",
    "\n",
    "CIFAR-10 dataset은 10개의 카테고리로 구성 되어 있으며 각 카테고리당 5000개의 이미지로 총 50000 이미지로 구성되어 있습니다.\n",
    "\n",
    "Amazon image classification algorithm은 두 종류의 input format을 지원 합니다.\n",
    "\n",
    "1. [recordio](https://mxnet.incubator.apache.org/tutorials/basic/record_io.html) \n",
    "2. [lst - im2rec](https://mxnet.incubator.apache.org/how_to/recordio.html?highlight=im2rec)\n",
    "\n",
    "CIFAR-10두 종류의 파일은 http://data.mxnet.io/data/cifar10/ 에서 다운 받으실 수 있습니다.\n",
    "\n",
    ">본 가이드에서는 미리 준비된 CIFAR-10 recordio 파일을 사용하였습니다."
   ]
  },
  {
   "cell_type": "markdown",
   "metadata": {},
   "source": [
    "## 이전 작업에서 생성한 S3 Bucket 이름을 `bucket` 변수에 입력하시기 바랍니다.\n",
    "\n",
    "- `bucket`"
   ]
  },
  {
   "cell_type": "code",
   "execution_count": null,
   "metadata": {
    "collapsed": true
   },
   "outputs": [],
   "source": [
    "bucket='YOUR_BUCKET_NAME'"
   ]
  },
  {
   "cell_type": "markdown",
   "metadata": {},
   "source": [
    "## 유틸 함수\n",
    "\n",
    "- `download` CIFAR-10 dataset 다운로드\n",
    "- `upload_to_s3` CIFAR-10-dataset을 s3로 업로드\n",
    "- `list_s3` 업로드한 dataset 확인"
   ]
  },
  {
   "cell_type": "code",
   "execution_count": null,
   "metadata": {
    "collapsed": true
   },
   "outputs": [],
   "source": [
    "import os\n",
    "from six.moves import urllib\n",
    "import boto3\n",
    "\n",
    "#download utility function\n",
    "#다운로드 유틸 함수\n",
    "def download(url,path=\"/tmp\"):\n",
    "    filename = url.split(\"/\")[-1]\n",
    "    filepath = os.path.join(path,filename)\n",
    "    if not os.path.exists(filepath):\n",
    "        urllib.request.urlretrieve(url, filepath)\n",
    "    else:\n",
    "        print(\"{} exsits!\".format(filepath))\n",
    "\n",
    "#S3 upload utility function\n",
    "#S3 업로드 유틸 함수\n",
    "def upload_to_s3(channel, filename, bucket, path=\"/tmp\"):\n",
    "    s3 = boto3.resource('s3')\n",
    "    filepath = os.path.join(path,filename)\n",
    "    data = open(filepath, \"rb\")\n",
    "    key = channel + '/' + filename\n",
    "    s3.Bucket(bucket).put_object(Key=key, Body=data)\n",
    "\n",
    "#S3 upload check util function\n",
    "#S3 업로드 확인 유틸 함수\n",
    "def list_s3(bucket):\n",
    "    s3 = boto3.resource('s3')\n",
    "    for file in s3.Bucket(bucket).objects.all():\n",
    "        print(file.key)"
   ]
  },
  {
   "cell_type": "code",
   "execution_count": null,
   "metadata": {
    "collapsed": true
   },
   "outputs": [],
   "source": [
    "%%time\n",
    "## Download\n",
    "## 다운로드 CIFAR10 dataset\n",
    "download('http://data.mxnet.io/data/cifar10/cifar10_train.rec')\n",
    "download('http://data.mxnet.io/data/cifar10/cifar10_val.rec')"
   ]
  },
  {
   "cell_type": "code",
   "execution_count": null,
   "metadata": {
    "collapsed": true
   },
   "outputs": [],
   "source": [
    "%%time\n",
    "## Upload\n",
    "## S3 업로드 CIFAR10 dataset\n",
    "upload_to_s3('validation', 'cifar10_val.rec',bucket)\n",
    "upload_to_s3('train', 'cifar10_train.rec',bucket)"
   ]
  },
  {
   "cell_type": "code",
   "execution_count": null,
   "metadata": {
    "collapsed": true
   },
   "outputs": [],
   "source": [
    "## Check\n",
    "## S3 업로드 확인\n",
    "list_s3(bucket)"
   ]
  }
 ],
 "metadata": {
  "kernelspec": {
   "display_name": "conda_mxnet_p36",
   "language": "python",
   "name": "conda_mxnet_p36"
  },
  "language_info": {
   "codemirror_mode": {
    "name": "ipython",
    "version": 3
   },
   "file_extension": ".py",
   "mimetype": "text/x-python",
   "name": "python",
   "nbconvert_exporter": "python",
   "pygments_lexer": "ipython3",
   "version": "3.6.2"
  }
 },
 "nbformat": 4,
 "nbformat_minor": 2
}
