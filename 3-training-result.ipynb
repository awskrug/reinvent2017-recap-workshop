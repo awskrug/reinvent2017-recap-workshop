{
 "cells": [
  {
   "cell_type": "code",
   "execution_count": null,
   "metadata": {
    "collapsed": true
   },
   "outputs": [],
   "source": [
    "%load_ext autoreload\n",
    "%autoreload 2\n",
    "%matplotlib inline\n",
    "\n",
    "import matplotlib.pyplot as plt\n",
    "import matplotlib.ticker as ticker\n",
    "import numpy as np\n",
    "import boto3"
   ]
  },
  {
   "cell_type": "markdown",
   "metadata": {},
   "source": [
    "## 이전 작업에서 생성한 job_name을 `job_name` 변수에 입력하시기 바랍니다.\n",
    "\n",
    "- `job_name`\n"
   ]
  },
  {
   "cell_type": "code",
   "execution_count": null,
   "metadata": {
    "collapsed": true
   },
   "outputs": [],
   "source": [
    "## From 1st notebook\n",
    "job_name=\"YOUR_JOBNAME\" \n",
    "\n",
    "## From 1st notebook\n",
    "epochs = 10"
   ]
  },
  {
   "cell_type": "markdown",
   "metadata": {},
   "source": [
    "## Log 확인을 위한 유틸 함수\n",
    "\n",
    "### `job_name`을 이용하여 `logs` 스트림에서 해당 `job_name`의 마지막 이벤트 출력\n",
    "\n",
    "1. `get_lsn` : Log 확인을 위한 lsn 값 반환 유틸 함수\n",
    "2. `get_log` : Log 반환 유틸 함수\n",
    "3. `parse_log` : Log 파서 유틸 함수"
   ]
  },
  {
   "cell_type": "code",
   "execution_count": null,
   "metadata": {
    "collapsed": true
   },
   "outputs": [],
   "source": [
    "## Log 확인을 위한 lsn 값 반환 유틸 함수\n",
    "def get_lsn(job_name, lgn='/aws/sagemaker/TrainingJobs'):\n",
    "    client = boto3.client('logs')\n",
    "    response = client.describe_log_streams(\n",
    "    logGroupName=lgn,\n",
    "    orderBy='LastEventTime'\n",
    "    )\n",
    "    lsn = [ x['logStreamName'] for x in response['logStreams'] if x['logStreamName'].startswith(job_name)][0]\n",
    "    return lsn \n",
    "\n",
    "## Log 반환 함수\n",
    "def get_log(lsn, lgn='/aws/sagemaker/TrainingJobs'):\n",
    "    client = boto3.client('logs')\n",
    "    log=client.get_log_events(logGroupName=lgn, logStreamName=lsn)\n",
    "    return log\n",
    "\n",
    "## Log 파서\n",
    "def parse_log(log):\n",
    "    trn_accs=[]\n",
    "    val_accs=[]\n",
    "    for e in log['events']:\n",
    "        msg=e['message']\n",
    "        if 'Validation-accuracy' in msg:\n",
    "            val = msg.split(\"=\")\n",
    "            val = val[1]\n",
    "            val_accs.append(float(val))\n",
    "        if 'Train-accuracy' in msg:\n",
    "            trn = msg.split(\"=\")\n",
    "            trn = trn[1]\n",
    "            trn_accs.append(float(trn))\n",
    "    return trn_accs, val_accs"
   ]
  },
  {
   "cell_type": "code",
   "execution_count": null,
   "metadata": {
    "collapsed": true
   },
   "outputs": [],
   "source": [
    "lsn = get_lsn(job_name)\n",
    "print(lsn)"
   ]
  },
  {
   "cell_type": "code",
   "execution_count": null,
   "metadata": {
    "collapsed": true
   },
   "outputs": [],
   "source": [
    "log = get_log(lsn)\n",
    "trn_accs, val_accs = parse_log(log)"
   ]
  },
  {
   "cell_type": "code",
   "execution_count": null,
   "metadata": {
    "collapsed": true
   },
   "outputs": [],
   "source": [
    "print(\"Maximum validation accuracy: %f \" % max(val_accs))\n",
    "fig, ax = plt.subplots(figsize=(12,8))\n",
    "plt.xlabel('Epochs')\n",
    "plt.ylabel('Accuracy')\n",
    "trn_plot, = ax.plot(range(epochs), trn_accs, label=\"Training accuracy\")\n",
    "val_plot, = ax.plot(range(epochs), val_accs, label=\"Validation accuracy\")\n",
    "plt.legend(handles=[trn_plot,val_plot])\n",
    "ax.yaxis.set_ticks(np.arange(0.4, 1.05, 0.05))\n",
    "ax.yaxis.set_major_formatter(ticker.FormatStrFormatter('%0.2f'))\n",
    "plt.show()"
   ]
  },
  {
   "cell_type": "code",
   "execution_count": null,
   "metadata": {
    "collapsed": true
   },
   "outputs": [],
   "source": []
  }
 ],
 "metadata": {
  "kernelspec": {
   "display_name": "conda_mxnet_p36",
   "language": "python",
   "name": "conda_mxnet_p36"
  },
  "language_info": {
   "codemirror_mode": {
    "name": "ipython",
    "version": 3
   },
   "file_extension": ".py",
   "mimetype": "text/x-python",
   "name": "python",
   "nbconvert_exporter": "python",
   "pygments_lexer": "ipython3",
   "version": "3.6.2"
  }
 },
 "nbformat": 4,
 "nbformat_minor": 2
}
