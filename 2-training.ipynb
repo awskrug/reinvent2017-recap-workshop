{
 "cells": [
  {
   "cell_type": "code",
   "execution_count": 1,
   "metadata": {
    "collapsed": true
   },
   "outputs": [],
   "source": [
    "%load_ext autoreload\n",
    "%autoreload 2"
   ]
  },
  {
   "cell_type": "markdown",
   "metadata": {},
   "source": [
    "## 이전 작업에서 생성한 S3 Bucket의 이름을 `bucket` 변수에 입력하시기 바랍니다.\n",
    "\n",
    "- `bucket`"
   ]
  },
  {
   "cell_type": "code",
   "execution_count": 15,
   "metadata": {
    "collapsed": true
   },
   "outputs": [],
   "source": [
    "bucket='YOUR_BUCKET_NAME'"
   ]
  },
  {
   "cell_type": "markdown",
   "metadata": {},
   "source": [
    "## 트레이닝에 사용할 Docker 이미지의 주소를 확인합니다.\n",
    "\n",
    ">그외 다른 알고리즘 및 이미지들의 주소는 [이곳](https://docs.aws.amazon.com/ko_kr/sagemaker/latest/dg/sagemaker-algo-docker-registry-paths.html)에서 확인하실수 있습니다."
   ]
  },
  {
   "cell_type": "code",
   "execution_count": 3,
   "metadata": {},
   "outputs": [
    {
     "name": "stdout",
     "output_type": "stream",
     "text": [
      "811284229777.dkr.ecr.us-east-1.amazonaws.com/image-classification:latest\n"
     ]
    }
   ],
   "source": [
    "import boto3\n",
    "from sagemaker import get_execution_role\n",
    "\n",
    "role = get_execution_role()\n",
    "\n",
    "containers = {'us-west-2': '433757028032.dkr.ecr.us-west-2.amazonaws.com/image-classification:latest',\n",
    "              'us-east-1': '811284229777.dkr.ecr.us-east-1.amazonaws.com/image-classification:latest',\n",
    "              'us-east-2': '825641698319.dkr.ecr.us-east-2.amazonaws.com/image-classification:latest',\n",
    "              'eu-west-1': '685385470294.dkr.ecr.eu-west-1.amazonaws.com/image-classification:latest'}\n",
    "training_image = containers[boto3.Session().region_name]\n",
    "print(training_image)"
   ]
  },
  {
   "cell_type": "markdown",
   "metadata": {},
   "source": [
    "## Training 파라미터들\n",
    "\n",
    "### 1. Training job 파라미터\n",
    "\n",
    "- Input specification: `\"InputDataConfig\"` training 및 validation의 데이터의 위치, 데이터 타입은\n",
    "`\"ContentType\"`으로 설정할 수 있으며 설정 할 수 있는 값은 `\"application/x-recordio\"` 또는 `\"application/x-image\"`입니다.\n",
    "- Output specification: `\"OutputDataConfig\"` 섹션에 정의 되어 있으며 결과물을 저장할 곳을 정의 합니다.\n",
    "- Resource config: 인스턴스 타입 및 대수, `\"InstanceCount\"`가 1보다 크면 분산 처리합니다.\n",
    "\n",
    "### 2. 알고리즘 hyperparameters\n",
    "\n",
    "- `num_layers` : 신경 네트워크의 layers 개수 혹은 네트워크의 depth\n",
    "- `num_training_samples` : Training 샘플의 총 개수, CIFAR-10 dataset의 경우 50000\n",
    "- `num_classes` : 총 분류 카테고리의 수, 사용하는 알고리즘의 경우 Imagenet의 1000개의 카테고리로 트레이닝 되었습니다. Fine-tuning의 데모로 이번 가이드에서는 CIFAR-10의 10개의 카테고리를 사용합니다.\n",
    "- `epochs` : Training epochs 수\n",
    "- `learning_rate` : Training learning rate\n",
    "- `mini_batch_size` : mini batch에 사용하는 training 샘플의 개수, 분산 training의 경우 training 샘플의 숫자는 N * mini_batch_size 입니다. 이때, N은 training을 하는 호스트의 대수 입니다.\n",
    "\n",
    "위의 파라미터들을 설정 후 training job을 실행합니다. training이 끝나는 status를 확인합니다.\n",
    "이 실습의 경우 `p2.xlarge` 1대를 사용 하였을 때 대략 20분 정도 소요 됩니다. "
   ]
  },
  {
   "cell_type": "markdown",
   "metadata": {},
   "source": [
    "\n",
    "## 아마존이 제공하는 알고리즘은 Layer의 수를 18, 34, 50, 101, 152, 200을 지원합니다.\n",
    "\n",
    ">이번 트레이닝에서는 18 Layer를 사용합니다."
   ]
  },
  {
   "cell_type": "code",
   "execution_count": 14,
   "metadata": {
    "collapsed": true
   },
   "outputs": [],
   "source": [
    "# The algorithm supports multiple network depth (number of layers). They are 18, 34, 50, 101, 152 and 200\n",
    "# For this training, we will use 18 layers\n",
    "num_layers = 18"
   ]
  },
  {
   "cell_type": "markdown",
   "metadata": {},
   "source": [
    "## 입력 이미지의 사이즈를 설정 합니다.\n",
    "\n",
    "> CIFAR의 경우 28x28x3 입니다."
   ]
  },
  {
   "cell_type": "code",
   "execution_count": 5,
   "metadata": {
    "collapsed": true
   },
   "outputs": [],
   "source": [
    "# we need to specify the input image shape for the training data\n",
    "image_shape = \"3,28,28\""
   ]
  },
  {
   "cell_type": "markdown",
   "metadata": {},
   "source": [
    "## Training와 관련한 파라 미터들을 설정합니다.\n",
    "\n",
    "1. Training 샘플 수\n",
    "2. Class 수\n",
    "3. Mini Batch 사이즈\n",
    "4. Epoch 수\n",
    "5. Learning Rate"
   ]
  },
  {
   "cell_type": "code",
   "execution_count": 6,
   "metadata": {
    "collapsed": true
   },
   "outputs": [],
   "source": [
    "# we also need to specify the number of training samples in the training set\n",
    "# for CIFAR-10 it is 50000\n",
    "num_training_samples = 50000\n",
    "# specify the number of output classes\n",
    "num_classes = 10\n",
    "# batch size for training\n",
    "mini_batch_size =  128\n",
    "# number of epochs\n",
    "epochs = 10\n",
    "# learning rate\n",
    "learning_rate = 0.01"
   ]
  },
  {
   "cell_type": "markdown",
   "metadata": {},
   "source": [
    "## Pre-trainined Weights를 사용 할 지 여부에 대한 Flag를 설정합니다.\n",
    "\n",
    ">시간 및 효율성을 위해서 1로 설정합니다."
   ]
  },
  {
   "cell_type": "code",
   "execution_count": 7,
   "metadata": {
    "collapsed": true
   },
   "outputs": [],
   "source": [
    "# Since we are using transfer learning, we set use_pretrained_model to 1 so that weights can be \n",
    "# initialized with pre-trained weights\n",
    "use_pretrained_model = 1"
   ]
  },
  {
   "cell_type": "markdown",
   "metadata": {},
   "source": [
    "## 인스턴스 타입을 설정합니다.\n",
    "\n",
    "> Amazon built-in `Image Classification` 알고리즘의 경우 \"ml.c4.xlarge\" 사용시 에러를 발생합니다.\n",
    "\n",
    "> 그외 Sagemaker에서 \"ml.c5.xlarge\" 사용 하시려고 할 경우 Limit 해제 요청을 하셔야 합니다."
   ]
  },
  {
   "cell_type": "code",
   "execution_count": 8,
   "metadata": {
    "collapsed": true
   },
   "outputs": [],
   "source": [
    "instance_type=\"ml.p2.xlarge\""
   ]
  },
  {
   "cell_type": "markdown",
   "metadata": {},
   "source": [
    "## Unique job name을 설정합니다.\n",
    "\n",
    ">`job_name` 변수는 이후 계속 사용합니다."
   ]
  },
  {
   "cell_type": "code",
   "execution_count": 9,
   "metadata": {},
   "outputs": [
    {
     "name": "stdout",
     "output_type": "stream",
     "text": [
      "Your job name is\n",
      "\n",
      "job_name=\"sagemaker-imageclassification-cifar10-2018-01-19-13-58-21\"\n",
      "\n"
     ]
    }
   ],
   "source": [
    "import boto3\n",
    "from time import gmtime, strftime\n",
    "s3 = boto3.client('s3')\n",
    "\n",
    "# create unique job name \n",
    "job_name_prefix = 'sagemaker-imageclassification-cifar10'\n",
    "timestamp = strftime('-%Y-%m-%d-%H-%M-%S', gmtime())\n",
    "job_name = job_name_prefix + timestamp\n",
    "\n",
    "print(\"Your job name is\\n\\njob_name=\\\"{}\\\"\\n\".format(job_name))"
   ]
  },
  {
   "cell_type": "markdown",
   "metadata": {},
   "source": [
    "## Api 호출을 위한 parmeter template을 생서합니다.\n",
    "\n",
    "> Tensorflow 혹은 mxnet을 사용하실 경우 Training API 호출 방식이 차이가 있으므로 해당 `tensorflow` 혹은 `mxnet` 예제를 확인 하시기 바랍니다. "
   ]
  },
  {
   "cell_type": "code",
   "execution_count": 10,
   "metadata": {},
   "outputs": [
    {
     "name": "stdout",
     "output_type": "stream",
     "text": [
      "Training job name: sagemaker-imageclassification-cifar10-2018-01-19-13-58-21\n",
      "\n",
      "Input Data Location: {'S3DataType': 'S3Prefix', 'S3Uri': 's3://awskrug-sagemaker-demo/train/cifar10_train.rec', 'S3DataDistributionType': 'FullyReplicated'}\n"
     ]
    }
   ],
   "source": [
    "training_params = \\\n",
    "{\n",
    "    # specify the training docker image\n",
    "    \"AlgorithmSpecification\": {\n",
    "        \"TrainingImage\": training_image,\n",
    "        \"TrainingInputMode\": \"File\"\n",
    "    },\n",
    "    \"RoleArn\": role,\n",
    "    \"OutputDataConfig\": {\n",
    "        \"S3OutputPath\": 's3://{}/{}/output'.format(bucket, job_name_prefix)\n",
    "    },\n",
    "    \"ResourceConfig\": {\n",
    "        \"InstanceCount\": 1,\n",
    "        \"InstanceType\": \"{}\".format(instance_type),\n",
    "        \"VolumeSizeInGB\": 50\n",
    "    },\n",
    "    \"TrainingJobName\": job_name,\n",
    "    \"HyperParameters\": {\n",
    "        \"image_shape\": image_shape,\n",
    "        \"num_layers\": str(num_layers),\n",
    "        \"num_training_samples\": str(num_training_samples),\n",
    "        \"num_classes\": str(num_classes),\n",
    "        \"mini_batch_size\": str(mini_batch_size),\n",
    "        \"epochs\": str(epochs),\n",
    "        \"learning_rate\": str(learning_rate),\n",
    "        \"use_pretrained_model\": str(use_pretrained_model)\n",
    "    },\n",
    "    \"StoppingCondition\": {\n",
    "        \"MaxRuntimeInSeconds\": 360000\n",
    "    },\n",
    "#Training data should be inside a subdirectory called \"train\"\n",
    "#Validation data should be inside a subdirectory called \"validation\"\n",
    "#The algorithm currently only supports fullyreplicated model (where data is copied onto each machine)\n",
    "    \"InputDataConfig\": [\n",
    "        {\n",
    "            \"ChannelName\": \"train\",\n",
    "            \"DataSource\": {\n",
    "                \"S3DataSource\": {\n",
    "                    \"S3DataType\": \"S3Prefix\",\n",
    "                    \"S3Uri\": 's3://{}/train/cifar10_train.rec'.format(bucket),\n",
    "                    \"S3DataDistributionType\": \"FullyReplicated\"\n",
    "                }\n",
    "            },\n",
    "            \"ContentType\": \"application/x-recordio\",\n",
    "            \"CompressionType\": \"None\"\n",
    "        },\n",
    "        {\n",
    "            \"ChannelName\": \"validation\",\n",
    "            \"DataSource\": {\n",
    "                \"S3DataSource\": {\n",
    "                    \"S3DataType\": \"S3Prefix\",\n",
    "                    \"S3Uri\": 's3://{}/validation/cifar10_val.rec'.format(bucket),\n",
    "                    \"S3DataDistributionType\": \"FullyReplicated\"\n",
    "                }\n",
    "            },\n",
    "            \"ContentType\": \"application/x-recordio\",\n",
    "            \"CompressionType\": \"None\"\n",
    "        }\n",
    "    ]\n",
    "}\n",
    "print('Training job name: {}'.format(job_name))\n",
    "print('\\nInput Data Location: {}'.format(training_params['InputDataConfig'][0]['DataSource']['S3DataSource']))"
   ]
  },
  {
   "cell_type": "markdown",
   "metadata": {},
   "source": [
    "## 위에서 생성한 파라미터를 이용하여 Sagemaker Api 호출을 합니다."
   ]
  },
  {
   "cell_type": "code",
   "execution_count": 11,
   "metadata": {},
   "outputs": [
    {
     "data": {
      "text/plain": [
       "{'ResponseMetadata': {'HTTPHeaders': {'connection': 'keep-alive',\n",
       "   'content-length': '132',\n",
       "   'content-type': 'application/x-amz-json-1.1',\n",
       "   'date': 'Fri, 19 Jan 2018 13:58:21 GMT',\n",
       "   'x-amzn-requestid': 'ec5d0bb6-6e08-4f2e-83fd-cb434e077771'},\n",
       "  'HTTPStatusCode': 200,\n",
       "  'RequestId': 'ec5d0bb6-6e08-4f2e-83fd-cb434e077771',\n",
       "  'RetryAttempts': 0},\n",
       " 'TrainingJobArn': 'arn:aws:sagemaker:us-east-1:936074911029:training-job/sagemaker-imageclassification-cifar10-2018-01-19-13-58-21'}"
      ]
     },
     "execution_count": 11,
     "metadata": {},
     "output_type": "execute_result"
    }
   ],
   "source": [
    "# create the Amazon SageMaker training job\n",
    "sagemaker = boto3.client(service_name='sagemaker')\n",
    "sagemaker.create_training_job(**training_params)"
   ]
  },
  {
   "cell_type": "markdown",
   "metadata": {},
   "source": [
    "## Training Job에 대한 상태 확인"
   ]
  },
  {
   "cell_type": "code",
   "execution_count": 12,
   "metadata": {},
   "outputs": [
    {
     "name": "stdout",
     "output_type": "stream",
     "text": [
      "Training job current status: InProgress\n"
     ]
    }
   ],
   "source": [
    "# confirm that the training job has started\n",
    "status = sagemaker.describe_training_job(TrainingJobName=job_name)['TrainingJobStatus']\n",
    "print('Training job current status: {}'.format(status))"
   ]
  },
  {
   "cell_type": "markdown",
   "metadata": {},
   "source": [
    "## Training Job 종료 확인"
   ]
  },
  {
   "cell_type": "code",
   "execution_count": 16,
   "metadata": {},
   "outputs": [
    {
     "name": "stdout",
     "output_type": "stream",
     "text": [
      "Training job ended with status: Completed\n",
      "\n",
      "Use job_name variable next notebook\n",
      "\n",
      "job_name=\"sagemaker-imageclassification-cifar10-2018-01-19-13-58-21\"\n",
      "\n"
     ]
    }
   ],
   "source": [
    "try:\n",
    "    # wait for the job to finish and report the ending status\n",
    "    sagemaker.get_waiter('training_job_completed_or_stopped').wait(TrainingJobName=job_name)\n",
    "    training_info = sagemaker.describe_training_job(TrainingJobName=job_name)\n",
    "    status = training_info['TrainingJobStatus']\n",
    "    print(\"Training job ended with status: \" + status)\n",
    "    print(\"\\nUse job_name variable next notebook\\n\\njob_name=\\\"{}\\\"\\n\".format(job_name))\n",
    "except:\n",
    "    print('Training failed to start')\n",
    "     # if exception is raised, that means it has failed\n",
    "    message = sagemaker.describe_training_job(TrainingJobName=job_name)['FailureReason']\n",
    "    print('Training failed with the following error: {}'.format(message))"
   ]
  },
  {
   "cell_type": "markdown",
   "metadata": {},
   "source": [
    ">  아래 출력의 변수의 `job_name` 선언 부분을 복사해 놓으시기 바랍니다."
   ]
  },
  {
   "cell_type": "code",
   "execution_count": null,
   "metadata": {
    "collapsed": true
   },
   "outputs": [],
   "source": []
  }
 ],
 "metadata": {
  "kernelspec": {
   "display_name": "conda_mxnet_p36",
   "language": "python",
   "name": "conda_mxnet_p36"
  },
  "language_info": {
   "codemirror_mode": {
    "name": "ipython",
    "version": 3
   },
   "file_extension": ".py",
   "mimetype": "text/x-python",
   "name": "python",
   "nbconvert_exporter": "python",
   "pygments_lexer": "ipython3",
   "version": "3.6.2"
  }
 },
 "nbformat": 4,
 "nbformat_minor": 2
}
